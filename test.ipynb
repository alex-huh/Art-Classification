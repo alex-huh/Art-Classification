{
 "cells": [
  {
   "cell_type": "code",
   "execution_count": 147,
   "metadata": {},
   "outputs": [],
   "source": [
    "from datasets import load_dataset\n",
    "import torch\n",
    "import pickle"
   ]
  },
  {
   "cell_type": "code",
   "execution_count": null,
   "metadata": {},
   "outputs": [],
   "source": [
    "#takes about 1 hr\n",
    "dataset_name = \"huggan/wikiart\"\n",
    "dataset = load_dataset(dataset_name)\n",
    "torch.save(dataset, 'C:\\\\Users\\\\elain\\\\Documents\\\\Stern\\\\BAC\\\\Advanced Team\\\\train.pt')"
   ]
  },
  {
   "cell_type": "code",
   "execution_count": 3,
   "metadata": {},
   "outputs": [],
   "source": [
    "dataset = torch.load('C:\\\\Users\\\\elain\\\\Documents\\\\Stern\\\\BAC\\\\Advanced Team\\\\train.pt')"
   ]
  },
  {
   "cell_type": "code",
   "execution_count": 113,
   "metadata": {},
   "outputs": [],
   "source": [
    "#map index to style name\n",
    "styles = dataset[\"train\"].features[\"style\"].names\n",
    "style2id, id2style = dict(), dict()\n",
    "for i, style in enumerate(styles):\n",
    "    style2id[style] = str(i)\n",
    "    id2style[str(i)] = style"
   ]
  },
  {
   "cell_type": "code",
   "execution_count": 114,
   "metadata": {},
   "outputs": [],
   "source": [
    "#map index to artist name\n",
    "artists = dataset[\"train\"].features[\"artist\"].names\n",
    "artist2id, id2artist = dict(), dict()\n",
    "for i, artist in enumerate(artists):\n",
    "    artist2id[artist] = str(i)\n",
    "    id2artist[str(i)] = artist"
   ]
  },
  {
   "cell_type": "code",
   "execution_count": 115,
   "metadata": {},
   "outputs": [],
   "source": [
    "#setup dict keys\n",
    "styles = dataset['train']['style']\n",
    "unique_styles = set(styles)\n",
    "style_keys = []\n",
    "for i in unique_styles:\n",
    "    style = id2style[str(i)]\n",
    "    style_keys.append(style)"
   ]
  },
  {
   "cell_type": "code",
   "execution_count": 116,
   "metadata": {},
   "outputs": [],
   "source": [
    "#setup dict\n",
    "style2artist = dict()\n",
    "for i in style_keys:\n",
    "    style2artist[i] = []"
   ]
  },
  {
   "cell_type": "code",
   "execution_count": 138,
   "metadata": {},
   "outputs": [
    {
     "name": "stdout",
     "output_type": "stream",
     "text": [
      "{'Abstract_Expressionism': ['salvador-dali', 'Unknown Artist', 'sam-francis', 'henri-matisse', 'gene-davis', 'andy-warhol'], 'Action_painting': ['Unknown Artist'], 'Analytical_Cubism': ['pablo-picasso', 'georges-braque', 'juan-gris', 'Unknown Artist'], 'Art_Nouveau': ['boris-kustodiev', 'nicholas-roerich', 'raphael-kirchner', 'pablo-picasso', 'pyotr-konchalovsky', 'martiros-saryan', 'mstislav-dobuzhinsky', 'Unknown Artist', 'zinaida-serebriakova', 'ferdinand-hodler', 'henri-de-toulouse-lautrec', 'ivan-bilibin', 'aubrey-beardsley', 'felix-vallotton', 'gustav-klimt', 'koloman-moser', 'konstantin-korovin', 'mikhail-vrubel', 'konstantin-somov', 'valentin-serov', 'egon-schiele', 'jacek-malczewski', 'vasily-polenov'], 'Baroque': ['rembrandt', 'Unknown Artist', 'bartolome-esteban-murillo', 'peter-paul-rubens', 'anthony-van-dyck', 'frans-hals', 'joshua-reynolds', 'jacob-jordaens', 'joseph-wright', 'canaletto'], 'Color_Field_Painting': ['Unknown Artist', 'gene-davis', 'sam-francis', 'henri-matisse'], 'Contemporary_Realism': ['Unknown Artist', 'lucian-freud'], 'Cubism': ['pablo-picasso', 'paul-cezanne', 'marc-chagall', 'salvador-dali', 'pyotr-konchalovsky', 'juan-gris', 'Unknown Artist', 'fernand-leger', 'georges-braque', 'ernst-ludwig-kirchner', 'm.c.-escher', 'raoul-dufy', 'henri-matisse'], 'Early_Renaissance': ['leonardo-da-vinci', 'Unknown Artist', 'fra-angelico', 'pietro-perugino', 'konstantin-somov'], 'Expressionism': ['martiros-saryan', 'pablo-picasso', 'salvador-dali', 'marc-chagall', 'pyotr-konchalovsky', 'Unknown Artist', 'egon-schiele', 'edvard-munch', 'henri-matisse', 'zinaida-serebriakova', 'lucian-freud', 'ernst-ludwig-kirchner', 'amedeo-modigliani', 'georges-braque', 'm.c.-escher', 'mstislav-dobuzhinsky'], 'Fauvism': ['martiros-saryan', 'pyotr-konchalovsky', 'Unknown Artist', 'henri-matisse', 'raoul-dufy', 'georges-braque', 'ilya-mashkov', 'david-burliuk'], 'High_Renaissance': ['Unknown Artist', 'pietro-perugino', 'raphael', 'titian', 'michelangelo', 'leonardo-da-vinci'], 'Impressionism': ['pierre-auguste-renoir', 'claude-monet', 'eugene-boudin', 'salvador-dali', 'paul-cezanne', 'edgar-degas', 'childe-hassam', 'camille-pissarro', 'john-singer-sargent', 'pablo-picasso', 'pyotr-konchalovsky', 'boris-kustodiev', 'ilya-repin', 'Unknown Artist', 'alfred-sisley', 'mary-cassatt', 'joaquã\\xadn-sorolla', 'berthe-morisot', 'arkhip-kuindzhi', 'james-tissot', 'giovanni-boldini', 'henri-martin', 'john-henry-twachtman', 'antoine-blanchard', 'konstantin-korovin', 'paul-gauguin', 'gustave-caillebotte', 'nikolay-bogdanov-belsky', 'georges-seurat', 'william-merritt-chase', 'zinaida-serebriakova', 'odilon-redon', 'valentin-serov', 'edouard-manet', 'isaac-levitan', 'raoul-dufy', 'edvard-munch', 'ilya-mashkov', 'theo-van-rysselberghe', 'maxime-maufra', 'maurice-prendergast', 'james-mcneill-whistler', 'egon-schiele', 'konstantin-makovsky', 'henri-de-toulouse-lautrec', 'vasily-polenov', 'henri-matisse', 'jacek-malczewski', 'felix-vallotton', 'thomas-eakins', 'vasily-surikov', 'georges-braque', 'ferdinand-hodler'], 'Mannerism_Late_Renaissance': ['Unknown Artist', 'tintoretto', 'paolo-veronese', 'el-greco', 'titian'], 'Minimalism': ['Unknown Artist', 'gene-davis'], 'Naive_Art_Primitivism': ['marc-chagall', 'pablo-picasso', 'boris-kustodiev', 'martiros-saryan', 'salvador-dali', 'fernando-botero', 'niko-pirosmani', 'Unknown Artist', 'david-burliuk', 'maurice-prendergast', 'fernand-leger', 'raoul-dufy', 'mstislav-dobuzhinsky'], 'New_Realism': ['Unknown Artist'], 'Northern_Renaissance': ['albrecht-durer', 'Unknown Artist', 'hieronymus-bosch', 'lucas-cranach-the-elder', 'hans-memling', 'hans-holbein-the-younger'], 'Pointillism': ['camille-pissarro', 'salvador-dali', 'pablo-picasso', 'georges-seurat', 'Unknown Artist', 'theo-van-rysselberghe', 'henri-martin', 'maurice-prendergast', 'henri-matisse'], 'Pop_Art': ['Unknown Artist', 'andy-warhol'], 'Post_Impressionism': ['paul-cezanne', 'pablo-picasso', 'vincent-van-gogh', 'pyotr-konchalovsky', 'salvador-dali', 'martiros-saryan', 'Unknown Artist', 'edouard-cortes', 'paul-gauguin', 'maxime-maufra', 'gustave-loiseau', 'georges-seurat', 'jacek-malczewski', 'pierre-bonnard', 'henri-de-toulouse-lautrec', 'david-burliuk', 'maurice-prendergast', 'georges-braque', 'henri-matisse', 'theo-van-rysselberghe', 'ferdinand-hodler', 'ilya-mashkov', 'raoul-dufy', 'henri-martin', 'felix-vallotton', 'kuzma-petrov-vodkin', 'alfred-sisley', 'odilon-redon', 'koloman-moser'], 'Realism': ['vincent-van-gogh', 'john-singer-sargent', 'boris-kustodiev', 'pyotr-konchalovsky', 'ivan-shishkin', 'ilya-repin', 'camille-pissarro', 'martiros-saryan', 'eugene-boudin', 'nicholas-roerich', 'pablo-picasso', 'salvador-dali', 'claude-monet', 'edgar-degas', 'pierre-auguste-renoir', 'childe-hassam', 'Unknown Artist', 'thomas-eakins', 'henri-matisse', 'isaac-levitan', 'vasily-polenov', 'valentin-serov', 'gustav-klimt', 'vasily-perov', 'giovanni-boldini', 'camille-corot', 'edouard-manet', 'vasily-surikov', 'james-tissot', 'mary-cassatt', 'ferdinand-hodler', 'vasily-vereshchagin', 'aleksey-savrasov', 'ivan-kramskoy', 'konstantin-makovsky', 'konstantin-somov', 'gustave-courbet', 'viktor-vasnetsov', 'felix-vallotton', 'henri-fantin-latour', 'm.c.-escher', 'nikolay-bogdanov-belsky', 'arkhip-kuindzhi', 'mikhail-vrubel', 'william-merritt-chase', 'james-mcneill-whistler', 'david-burliuk', 'odilon-redon', 'theo-van-rysselberghe', 'alfred-sisley', 'henri-de-toulouse-lautrec', 'john-henry-twachtman', 'jacek-malczewski', 'ilya-mashkov', 'konstantin-korovin', 'berthe-morisot', 'edvard-munch', 'koloman-moser'], 'Rococo': ['Unknown Artist', 'joshua-reynolds', 'thomas-gainsborough', 'joseph-wright', 'canaletto'], 'Romanticism': ['ivan-aivazovsky', 'gustave-dore', 'paul-cezanne', 'Unknown Artist', 'konstantin-makovsky', 'gustave-moreau', 'francisco-goya', 'jan-matejko', 'dante-gabriel-rossetti', 'sir-lawrence-alma-tadema', 'orest-kiprensky', 'camille-corot', 'william-turner', 'joseph-wright', 'edward-burne-jones', 'karl-bryullov', 'eugene-delacroix', 'gustave-courbet', 'mikhail-vrubel', 'viktor-vasnetsov', 'ferdinand-hodler', 'jacek-malczewski', 'vasily-polenov', 'gustav-klimt'], 'Symbolism': ['nicholas-roerich', 'salvador-dali', 'martiros-saryan', 'pablo-picasso', 'Unknown Artist', 'james-tissot', 'ferdinand-hodler', 'odilon-redon', 'kuzma-petrov-vodkin', 'zinaida-serebriakova', 'gustave-moreau', 'konstantin-somov', 'mikhail-vrubel', 'mstislav-dobuzhinsky', 'mikalojus-ciurlionis', 'james-mcneill-whistler', 'jacek-malczewski', 'henri-fantin-latour', 'henri-martin', 'gustav-klimt', 'koloman-moser', 'viktor-vasnetsov', 'edward-burne-jones', 'dante-gabriel-rossetti', 'edvard-munch', 'felix-vallotton'], 'Synthetic_Cubism': ['pablo-picasso', 'juan-gris', 'georges-braque', 'Unknown Artist'], 'Ukiyo_e': ['Unknown Artist', 'katsushika-hokusai', 'utagawa-kuniyoshi']}\n"
     ]
    }
   ],
   "source": [
    "#takes about 20 min\n",
    "for entry in dataset[\"train\"]:\n",
    "    artist_id = entry[\"artist\"]\n",
    "    style_id = entry[\"style\"]\n",
    "    artist = id2artist[str(artist_id)]\n",
    "    style = id2style[str(style_id)]\n",
    "    \n",
    "    if artist not in style2artist[style]:\n",
    "        style2artist[style].append(artist)\n",
    "print(style2artist)"
   ]
  },
  {
   "cell_type": "code",
   "execution_count": 139,
   "metadata": {},
   "outputs": [],
   "source": [
    "with open('C:\\\\Users\\\\elain\\\\Documents\\\\Stern\\\\BAC\\\\Advanced Team\\\\saved_dictionary.pkl', 'wb') as f:\n",
    "    pickle.dump(style2artist, f)"
   ]
  },
  {
   "cell_type": "code",
   "execution_count": 148,
   "metadata": {},
   "outputs": [],
   "source": [
    "with open('C:\\\\Users\\\\elain\\\\Documents\\\\Stern\\\\BAC\\\\Advanced Team\\\\saved_dictionary.pkl', 'rb') as f:\n",
    "    style2artist = pickle.load(f)"
   ]
  },
  {
   "cell_type": "code",
   "execution_count": 153,
   "metadata": {},
   "outputs": [
    {
     "name": "stdout",
     "output_type": "stream",
     "text": [
      "{'Abstract_Expressionism': ['salvador-dali', 'sam-francis', 'henri-matisse', 'gene-davis', 'andy-warhol'], 'Analytical_Cubism': ['pablo-picasso', 'georges-braque', 'juan-gris'], 'Art_Nouveau': ['boris-kustodiev', 'nicholas-roerich', 'raphael-kirchner', 'pablo-picasso', 'pyotr-konchalovsky', 'martiros-saryan', 'mstislav-dobuzhinsky', 'zinaida-serebriakova', 'ferdinand-hodler', 'henri-de-toulouse-lautrec', 'ivan-bilibin', 'aubrey-beardsley', 'felix-vallotton', 'gustav-klimt', 'koloman-moser', 'konstantin-korovin', 'mikhail-vrubel', 'konstantin-somov', 'valentin-serov', 'egon-schiele', 'jacek-malczewski', 'vasily-polenov'], 'Baroque': ['rembrandt', 'bartolome-esteban-murillo', 'peter-paul-rubens', 'anthony-van-dyck', 'frans-hals', 'joshua-reynolds', 'jacob-jordaens', 'joseph-wright', 'canaletto'], 'Color_Field_Painting': ['gene-davis', 'sam-francis', 'henri-matisse'], 'Contemporary_Realism': ['lucian-freud'], 'Cubism': ['pablo-picasso', 'paul-cezanne', 'marc-chagall', 'salvador-dali', 'pyotr-konchalovsky', 'juan-gris', 'fernand-leger', 'georges-braque', 'ernst-ludwig-kirchner', 'm.c.-escher', 'raoul-dufy', 'henri-matisse'], 'Early_Renaissance': ['leonardo-da-vinci', 'fra-angelico', 'pietro-perugino', 'konstantin-somov'], 'Expressionism': ['martiros-saryan', 'pablo-picasso', 'salvador-dali', 'marc-chagall', 'pyotr-konchalovsky', 'egon-schiele', 'edvard-munch', 'henri-matisse', 'zinaida-serebriakova', 'lucian-freud', 'ernst-ludwig-kirchner', 'amedeo-modigliani', 'georges-braque', 'm.c.-escher', 'mstislav-dobuzhinsky'], 'Fauvism': ['martiros-saryan', 'pyotr-konchalovsky', 'henri-matisse', 'raoul-dufy', 'georges-braque', 'ilya-mashkov', 'david-burliuk'], 'High_Renaissance': ['pietro-perugino', 'raphael', 'titian', 'michelangelo', 'leonardo-da-vinci'], 'Impressionism': ['pierre-auguste-renoir', 'claude-monet', 'eugene-boudin', 'salvador-dali', 'paul-cezanne', 'edgar-degas', 'childe-hassam', 'camille-pissarro', 'john-singer-sargent', 'pablo-picasso', 'pyotr-konchalovsky', 'boris-kustodiev', 'ilya-repin', 'alfred-sisley', 'mary-cassatt', 'joaquã\\xadn-sorolla', 'berthe-morisot', 'arkhip-kuindzhi', 'james-tissot', 'giovanni-boldini', 'henri-martin', 'john-henry-twachtman', 'antoine-blanchard', 'konstantin-korovin', 'paul-gauguin', 'gustave-caillebotte', 'nikolay-bogdanov-belsky', 'georges-seurat', 'william-merritt-chase', 'zinaida-serebriakova', 'odilon-redon', 'valentin-serov', 'edouard-manet', 'isaac-levitan', 'raoul-dufy', 'edvard-munch', 'ilya-mashkov', 'theo-van-rysselberghe', 'maxime-maufra', 'maurice-prendergast', 'james-mcneill-whistler', 'egon-schiele', 'konstantin-makovsky', 'henri-de-toulouse-lautrec', 'vasily-polenov', 'henri-matisse', 'jacek-malczewski', 'felix-vallotton', 'thomas-eakins', 'vasily-surikov', 'georges-braque', 'ferdinand-hodler'], 'Mannerism_Late_Renaissance': ['tintoretto', 'paolo-veronese', 'el-greco', 'titian'], 'Minimalism': ['gene-davis'], 'Naive_Art_Primitivism': ['marc-chagall', 'pablo-picasso', 'boris-kustodiev', 'martiros-saryan', 'salvador-dali', 'fernando-botero', 'niko-pirosmani', 'david-burliuk', 'maurice-prendergast', 'fernand-leger', 'raoul-dufy', 'mstislav-dobuzhinsky'], 'Northern_Renaissance': ['albrecht-durer', 'hieronymus-bosch', 'lucas-cranach-the-elder', 'hans-memling', 'hans-holbein-the-younger'], 'Pointillism': ['camille-pissarro', 'salvador-dali', 'pablo-picasso', 'georges-seurat', 'theo-van-rysselberghe', 'henri-martin', 'maurice-prendergast', 'henri-matisse'], 'Pop_Art': ['andy-warhol'], 'Post_Impressionism': ['paul-cezanne', 'pablo-picasso', 'vincent-van-gogh', 'pyotr-konchalovsky', 'salvador-dali', 'martiros-saryan', 'edouard-cortes', 'paul-gauguin', 'maxime-maufra', 'gustave-loiseau', 'georges-seurat', 'jacek-malczewski', 'pierre-bonnard', 'henri-de-toulouse-lautrec', 'david-burliuk', 'maurice-prendergast', 'georges-braque', 'henri-matisse', 'theo-van-rysselberghe', 'ferdinand-hodler', 'ilya-mashkov', 'raoul-dufy', 'henri-martin', 'felix-vallotton', 'kuzma-petrov-vodkin', 'alfred-sisley', 'odilon-redon', 'koloman-moser'], 'Realism': ['vincent-van-gogh', 'john-singer-sargent', 'boris-kustodiev', 'pyotr-konchalovsky', 'ivan-shishkin', 'ilya-repin', 'camille-pissarro', 'martiros-saryan', 'eugene-boudin', 'nicholas-roerich', 'pablo-picasso', 'salvador-dali', 'claude-monet', 'edgar-degas', 'pierre-auguste-renoir', 'childe-hassam', 'thomas-eakins', 'henri-matisse', 'isaac-levitan', 'vasily-polenov', 'valentin-serov', 'gustav-klimt', 'vasily-perov', 'giovanni-boldini', 'camille-corot', 'edouard-manet', 'vasily-surikov', 'james-tissot', 'mary-cassatt', 'ferdinand-hodler', 'vasily-vereshchagin', 'aleksey-savrasov', 'ivan-kramskoy', 'konstantin-makovsky', 'konstantin-somov', 'gustave-courbet', 'viktor-vasnetsov', 'felix-vallotton', 'henri-fantin-latour', 'm.c.-escher', 'nikolay-bogdanov-belsky', 'arkhip-kuindzhi', 'mikhail-vrubel', 'william-merritt-chase', 'james-mcneill-whistler', 'david-burliuk', 'odilon-redon', 'theo-van-rysselberghe', 'alfred-sisley', 'henri-de-toulouse-lautrec', 'john-henry-twachtman', 'jacek-malczewski', 'ilya-mashkov', 'konstantin-korovin', 'berthe-morisot', 'edvard-munch', 'koloman-moser'], 'Rococo': ['joshua-reynolds', 'thomas-gainsborough', 'joseph-wright', 'canaletto'], 'Romanticism': ['ivan-aivazovsky', 'gustave-dore', 'paul-cezanne', 'konstantin-makovsky', 'gustave-moreau', 'francisco-goya', 'jan-matejko', 'dante-gabriel-rossetti', 'sir-lawrence-alma-tadema', 'orest-kiprensky', 'camille-corot', 'william-turner', 'joseph-wright', 'edward-burne-jones', 'karl-bryullov', 'eugene-delacroix', 'gustave-courbet', 'mikhail-vrubel', 'viktor-vasnetsov', 'ferdinand-hodler', 'jacek-malczewski', 'vasily-polenov', 'gustav-klimt'], 'Symbolism': ['nicholas-roerich', 'salvador-dali', 'martiros-saryan', 'pablo-picasso', 'james-tissot', 'ferdinand-hodler', 'odilon-redon', 'kuzma-petrov-vodkin', 'zinaida-serebriakova', 'gustave-moreau', 'konstantin-somov', 'mikhail-vrubel', 'mstislav-dobuzhinsky', 'mikalojus-ciurlionis', 'james-mcneill-whistler', 'jacek-malczewski', 'henri-fantin-latour', 'henri-martin', 'gustav-klimt', 'koloman-moser', 'viktor-vasnetsov', 'edward-burne-jones', 'dante-gabriel-rossetti', 'edvard-munch', 'felix-vallotton'], 'Synthetic_Cubism': ['pablo-picasso', 'juan-gris', 'georges-braque'], 'Ukiyo_e': ['katsushika-hokusai', 'utagawa-kuniyoshi']}\n"
     ]
    }
   ],
   "source": [
    "style2artist = {style: [artist for artist in artists if artist != 'Unknown Artist'] for style, artists in style2artist.items()}\n",
    "style2artist = {style: artists for style, artists in style2artist.items() if any(artist != 'Unknown Artist' for artist in artists)}\n",
    "\n",
    "print(style2artist)"
   ]
  },
  {
   "cell_type": "code",
   "execution_count": 156,
   "metadata": {},
   "outputs": [
    {
     "name": "stdout",
     "output_type": "stream",
     "text": [
      "{'Abstract_Expressionism': ['Salvador Dali', 'Sam Francis', 'Henri Matisse', 'Gene Davis', 'Andy Warhol'], 'Analytical_Cubism': ['Pablo Picasso', 'Georges Braque', 'Juan Gris'], 'Art_Nouveau': ['Boris Kustodiev', 'Nicholas Roerich', 'Raphael Kirchner', 'Pablo Picasso', 'Pyotr Konchalovsky', 'Martiros Saryan', 'Mstislav Dobuzhinsky', 'Zinaida Serebriakova', 'Ferdinand Hodler', 'Henri De Toulouse Lautrec', 'Ivan Bilibin', 'Aubrey Beardsley', 'Felix Vallotton', 'Gustav Klimt', 'Koloman Moser', 'Konstantin Korovin', 'Mikhail Vrubel', 'Konstantin Somov', 'Valentin Serov', 'Egon Schiele', 'Jacek Malczewski', 'Vasily Polenov'], 'Baroque': ['Rembrandt', 'Bartolome Esteban Murillo', 'Peter Paul Rubens', 'Anthony Van Dyck', 'Frans Hals', 'Joshua Reynolds', 'Jacob Jordaens', 'Joseph Wright', 'Canaletto'], 'Color_Field_Painting': ['Gene Davis', 'Sam Francis', 'Henri Matisse'], 'Contemporary_Realism': ['Lucian Freud'], 'Cubism': ['Pablo Picasso', 'Paul Cezanne', 'Marc Chagall', 'Salvador Dali', 'Pyotr Konchalovsky', 'Juan Gris', 'Fernand Leger', 'Georges Braque', 'Ernst Ludwig Kirchner', 'M.C. Escher', 'Raoul Dufy', 'Henri Matisse'], 'Early_Renaissance': ['Leonardo Da Vinci', 'Fra Angelico', 'Pietro Perugino', 'Konstantin Somov'], 'Expressionism': ['Martiros Saryan', 'Pablo Picasso', 'Salvador Dali', 'Marc Chagall', 'Pyotr Konchalovsky', 'Egon Schiele', 'Edvard Munch', 'Henri Matisse', 'Zinaida Serebriakova', 'Lucian Freud', 'Ernst Ludwig Kirchner', 'Amedeo Modigliani', 'Georges Braque', 'M.C. Escher', 'Mstislav Dobuzhinsky'], 'Fauvism': ['Martiros Saryan', 'Pyotr Konchalovsky', 'Henri Matisse', 'Raoul Dufy', 'Georges Braque', 'Ilya Mashkov', 'David Burliuk'], 'High_Renaissance': ['Pietro Perugino', 'Raphael', 'Titian', 'Michelangelo', 'Leonardo Da Vinci'], 'Impressionism': ['Pierre Auguste Renoir', 'Claude Monet', 'Eugene Boudin', 'Salvador Dali', 'Paul Cezanne', 'Edgar Degas', 'Childe Hassam', 'Camille Pissarro', 'John Singer Sargent', 'Pablo Picasso', 'Pyotr Konchalovsky', 'Boris Kustodiev', 'Ilya Repin', 'Alfred Sisley', 'Mary Cassatt', 'Joaquã\\xadN Sorolla', 'Berthe Morisot', 'Arkhip Kuindzhi', 'James Tissot', 'Giovanni Boldini', 'Henri Martin', 'John Henry Twachtman', 'Antoine Blanchard', 'Konstantin Korovin', 'Paul Gauguin', 'Gustave Caillebotte', 'Nikolay Bogdanov Belsky', 'Georges Seurat', 'William Merritt Chase', 'Zinaida Serebriakova', 'Odilon Redon', 'Valentin Serov', 'Edouard Manet', 'Isaac Levitan', 'Raoul Dufy', 'Edvard Munch', 'Ilya Mashkov', 'Theo Van Rysselberghe', 'Maxime Maufra', 'Maurice Prendergast', 'James Mcneill Whistler', 'Egon Schiele', 'Konstantin Makovsky', 'Henri De Toulouse Lautrec', 'Vasily Polenov', 'Henri Matisse', 'Jacek Malczewski', 'Felix Vallotton', 'Thomas Eakins', 'Vasily Surikov', 'Georges Braque', 'Ferdinand Hodler'], 'Mannerism_Late_Renaissance': ['Tintoretto', 'Paolo Veronese', 'El Greco', 'Titian'], 'Minimalism': ['Gene Davis'], 'Naive_Art_Primitivism': ['Marc Chagall', 'Pablo Picasso', 'Boris Kustodiev', 'Martiros Saryan', 'Salvador Dali', 'Fernando Botero', 'Niko Pirosmani', 'David Burliuk', 'Maurice Prendergast', 'Fernand Leger', 'Raoul Dufy', 'Mstislav Dobuzhinsky'], 'Northern_Renaissance': ['Albrecht Durer', 'Hieronymus Bosch', 'Lucas Cranach The Elder', 'Hans Memling', 'Hans Holbein The Younger'], 'Pointillism': ['Camille Pissarro', 'Salvador Dali', 'Pablo Picasso', 'Georges Seurat', 'Theo Van Rysselberghe', 'Henri Martin', 'Maurice Prendergast', 'Henri Matisse'], 'Pop_Art': ['Andy Warhol'], 'Post_Impressionism': ['Paul Cezanne', 'Pablo Picasso', 'Vincent Van Gogh', 'Pyotr Konchalovsky', 'Salvador Dali', 'Martiros Saryan', 'Edouard Cortes', 'Paul Gauguin', 'Maxime Maufra', 'Gustave Loiseau', 'Georges Seurat', 'Jacek Malczewski', 'Pierre Bonnard', 'Henri De Toulouse Lautrec', 'David Burliuk', 'Maurice Prendergast', 'Georges Braque', 'Henri Matisse', 'Theo Van Rysselberghe', 'Ferdinand Hodler', 'Ilya Mashkov', 'Raoul Dufy', 'Henri Martin', 'Felix Vallotton', 'Kuzma Petrov Vodkin', 'Alfred Sisley', 'Odilon Redon', 'Koloman Moser'], 'Realism': ['Vincent Van Gogh', 'John Singer Sargent', 'Boris Kustodiev', 'Pyotr Konchalovsky', 'Ivan Shishkin', 'Ilya Repin', 'Camille Pissarro', 'Martiros Saryan', 'Eugene Boudin', 'Nicholas Roerich', 'Pablo Picasso', 'Salvador Dali', 'Claude Monet', 'Edgar Degas', 'Pierre Auguste Renoir', 'Childe Hassam', 'Thomas Eakins', 'Henri Matisse', 'Isaac Levitan', 'Vasily Polenov', 'Valentin Serov', 'Gustav Klimt', 'Vasily Perov', 'Giovanni Boldini', 'Camille Corot', 'Edouard Manet', 'Vasily Surikov', 'James Tissot', 'Mary Cassatt', 'Ferdinand Hodler', 'Vasily Vereshchagin', 'Aleksey Savrasov', 'Ivan Kramskoy', 'Konstantin Makovsky', 'Konstantin Somov', 'Gustave Courbet', 'Viktor Vasnetsov', 'Felix Vallotton', 'Henri Fantin Latour', 'M.C. Escher', 'Nikolay Bogdanov Belsky', 'Arkhip Kuindzhi', 'Mikhail Vrubel', 'William Merritt Chase', 'James Mcneill Whistler', 'David Burliuk', 'Odilon Redon', 'Theo Van Rysselberghe', 'Alfred Sisley', 'Henri De Toulouse Lautrec', 'John Henry Twachtman', 'Jacek Malczewski', 'Ilya Mashkov', 'Konstantin Korovin', 'Berthe Morisot', 'Edvard Munch', 'Koloman Moser'], 'Rococo': ['Joshua Reynolds', 'Thomas Gainsborough', 'Joseph Wright', 'Canaletto'], 'Romanticism': ['Ivan Aivazovsky', 'Gustave Dore', 'Paul Cezanne', 'Konstantin Makovsky', 'Gustave Moreau', 'Francisco Goya', 'Jan Matejko', 'Dante Gabriel Rossetti', 'Sir Lawrence Alma Tadema', 'Orest Kiprensky', 'Camille Corot', 'William Turner', 'Joseph Wright', 'Edward Burne Jones', 'Karl Bryullov', 'Eugene Delacroix', 'Gustave Courbet', 'Mikhail Vrubel', 'Viktor Vasnetsov', 'Ferdinand Hodler', 'Jacek Malczewski', 'Vasily Polenov', 'Gustav Klimt'], 'Symbolism': ['Nicholas Roerich', 'Salvador Dali', 'Martiros Saryan', 'Pablo Picasso', 'James Tissot', 'Ferdinand Hodler', 'Odilon Redon', 'Kuzma Petrov Vodkin', 'Zinaida Serebriakova', 'Gustave Moreau', 'Konstantin Somov', 'Mikhail Vrubel', 'Mstislav Dobuzhinsky', 'Mikalojus Ciurlionis', 'James Mcneill Whistler', 'Jacek Malczewski', 'Henri Fantin Latour', 'Henri Martin', 'Gustav Klimt', 'Koloman Moser', 'Viktor Vasnetsov', 'Edward Burne Jones', 'Dante Gabriel Rossetti', 'Edvard Munch', 'Felix Vallotton'], 'Synthetic_Cubism': ['Pablo Picasso', 'Juan Gris', 'Georges Braque'], 'Ukiyo_e': ['Katsushika Hokusai', 'Utagawa Kuniyoshi']}\n"
     ]
    }
   ],
   "source": [
    "style2artist_formatted = {}\n",
    "\n",
    "for style, artists in style2artist.items():\n",
    "    formatted_artists = [artist.replace('-', ' ').title() for artist in artists]\n",
    "    style2artist_formatted[style] = formatted_artists\n",
    "\n",
    "print(style2artist_formatted)"
   ]
  },
  {
   "cell_type": "code",
   "execution_count": null,
   "metadata": {},
   "outputs": [],
   "source": [
    "#PSEUDOCODE\n",
    "#model outputs style1, style2, style3, style4, style5\n",
    "\n",
    "#if there are significant influences from a secondary style\n",
    "#recommend 1 artist from style1 and 1 artist from style2\n",
    "#if weight of style2 > threshold:\n",
    "#output style2artist[style1] + random(style2artist[style2])\n",
    "\n",
    "#if there is only one artist in the database\n",
    "#recommend 1 artist from style1 and 1 artist from style2\n",
    "#elif len(style2artist[style1]) < 2:\n",
    "#output style2artist[style1] + style2artist[style2]\n",
    "\n",
    "#else recommend 2 artists from style1\n",
    "#else:\n",
    "#output style2artist[style1][:2]"
   ]
  }
 ],
 "metadata": {
  "kernelspec": {
   "display_name": "base",
   "language": "python",
   "name": "python3"
  },
  "language_info": {
   "codemirror_mode": {
    "name": "ipython",
    "version": 3
   },
   "file_extension": ".py",
   "mimetype": "text/x-python",
   "name": "python",
   "nbconvert_exporter": "python",
   "pygments_lexer": "ipython3",
   "version": "3.11.5"
  }
 },
 "nbformat": 4,
 "nbformat_minor": 2
}
